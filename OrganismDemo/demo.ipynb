# demo.ipynb
import DAG
from symengine import Symbol, Derivative

x = Symbol('x')

# Multinomial expansion example
print("Multinomial expansion (f0 + f1)^3:")
result = DAG.multinomial_DAG(3, 2, 0, DAG.unordered_combinations)
print(result[0])

# n-th derivative example
print("\nThird derivative of f0*f1:")
result = DAG.multinomial_DAG(3, 2, 1, DAG.unordered_combinations)
print(result[0])

# Partial Bell polynomial B_{3,2}^f(x)
print("\nPartial Bell polynomial B_{3,2}^f(x):")
result = DAG.predefined_bell_polynomial_DAG(0, 3, 2)
print(result[0])

# Convoluted partial Bell polynomial
print("\nConvoluted partial Bell polynomial B_{3,2} with a=2:")
result = DAG.convoluted_partial_bell_polynomial(3, 2, 2)
print(result[0])
